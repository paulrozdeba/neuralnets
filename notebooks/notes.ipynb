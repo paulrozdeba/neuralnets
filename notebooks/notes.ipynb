{
 "metadata": {
  "name": ""
 },
 "nbformat": 3,
 "nbformat_minor": 0,
 "worksheets": [
  {
   "cells": [
    {
     "cell_type": "heading",
     "level": 1,
     "metadata": {},
     "source": [
      "\"Model1\" notes"
     ]
    },
    {
     "cell_type": "code",
     "collapsed": false,
     "input": [
      "import matplotlib.pyplot as plt\n",
      "import matplotlib.image as mpimg"
     ],
     "language": "python",
     "metadata": {},
     "outputs": [],
     "prompt_number": 6
    },
    {
     "cell_type": "code",
     "collapsed": false,
     "input": [
      "%matplotlib inline"
     ],
     "language": "python",
     "metadata": {},
     "outputs": [],
     "prompt_number": 11
    },
    {
     "cell_type": "heading",
     "level": 3,
     "metadata": {},
     "source": [
      "Experiment 1"
     ]
    },
    {
     "cell_type": "markdown",
     "metadata": {},
     "source": [
      "***Behavior:*** Period doubling, limit cycle\n",
      "\n",
      "***Parameters:***\n",
      "\n",
      "- rand seed = 2\n",
      "- Jvar = 0.9\n",
      "- g = 1.0\n",
      "- NxM = 8x8\n",
      "\n",
      "\n",
      "***Description:***\n",
      "\n",
      "First integration, for 200 time units, returns a crazy trajectory (transient behavior).  At some point during this time, the trajectory hits the limit cycle.  Integrating again for 200 seconds shows a clear limit cycle with a period doubling."
     ]
    },
    {
     "cell_type": "heading",
     "level": 3,
     "metadata": {},
     "source": [
      "Experiment 2"
     ]
    },
    {
     "cell_type": "markdown",
     "metadata": {},
     "source": [
      "***Behavior:*** Chaotic attractor?\n",
      "\n",
      "***Parameters:***\n",
      "\n",
      "- rand seed = 2\n",
      "- Jvar = 1.3\n",
      "- g = 1.0\n",
      "- NxM = 8x8\n",
      "- Initial conditions: taken from limit cycle of experiment 1 (see file 'limitcycle_x0.npy')\n",
      "\n",
      "***Description:***\n",
      "\n",
      "Started with initial conditions sampled from limit cycle in experiment 1.  Looks like a chaotic attractor, has two \"knots\" somewhere in phase space that appear in all 2d and 3d projections tested.  Test the Lyapunov exponents here!"
     ]
    },
    {
     "cell_type": "heading",
     "level": 3,
     "metadata": {},
     "source": [
      "Experiment 3"
     ]
    },
    {
     "cell_type": "markdown",
     "metadata": {},
     "source": [
      "***Behavior:*** Chaotic attractor!\n",
      "\n",
      "***Parameters:***\n",
      "\n",
      "- rand seed = 2\n",
      "- Jvar = 1.05\n",
      "- g = 1.0\n",
      "- NxM = 8x8\n",
      "- Initial conditions: taken from limit cycle of experiment 1 (see file 'limitcycle_x0.npy')\n",
      "\n",
      "***Description:***\n",
      "\n",
      "Looks like a nice, clean chaotic attractor."
     ]
    },
    {
     "cell_type": "heading",
     "level": 3,
     "metadata": {},
     "source": [
      "Experiment 4"
     ]
    },
    {
     "cell_type": "markdown",
     "metadata": {},
     "source": [
      "***Behavior:*** Schmeared limit cycle, I think\n",
      "\n",
      "***Parameters:***\n",
      "\n",
      "- rand seed = 2\n",
      "- Jvar = 0.7\n",
      "- g = 1.0\n",
      "- NxM = 8x8\n",
      "- Initial conditions: taken from limit cycle of experiment 1 (see file 'limitcycle_x0.npy')\n",
      "\n",
      "***Description:***\n",
      "\n",
      "A schmeared limit cycle."
     ]
    },
    {
     "cell_type": "heading",
     "level": 3,
     "metadata": {},
     "source": [
      "Experiment 5"
     ]
    },
    {
     "cell_type": "markdown",
     "metadata": {},
     "source": [
      "***Behavior:*** Single-period limit cycle\n",
      "\n",
      "***Parameters:***\n",
      "\n",
      "- rand seed = 2\n",
      "- Jvar = 0.8\n",
      "- g = 1.0\n",
      "- NxM = 8x8\n",
      "- Initial conditions: taken from limit cycle of experiment 1 (see file 'limitcycle_x0.npy')\n",
      "\n",
      "***Description:***\n",
      "\n",
      "Single-period limit cycle."
     ]
    },
    {
     "cell_type": "heading",
     "level": 3,
     "metadata": {},
     "source": [
      "Experiment 6"
     ]
    },
    {
     "cell_type": "markdown",
     "metadata": {},
     "source": [
      "***Behavior:*** Four-cycle\n",
      "\n",
      "***Parameters:***\n",
      "\n",
      "- rand seed = 2\n",
      "- Jvar = 0.98\n",
      "- g = 1.0\n",
      "- NxM = 8x8\n",
      "- Initial conditions: taken from limit cycle of experiment 1 (see file 'limitcycle_x0.npy')\n",
      "\n",
      "***Description:***\n",
      "\n",
      "Four-period cycle."
     ]
    },
    {
     "cell_type": "heading",
     "level": 2,
     "metadata": {},
     "source": [
      "General notes"
     ]
    },
    {
     "cell_type": "heading",
     "level": 4,
     "metadata": {},
     "source": [
      "Date: Dec 6, 2013"
     ]
    },
    {
     "cell_type": "markdown",
     "metadata": {},
     "source": [
      "- With random seed 28031987, N=200, a bifurcation into two chaotic attractors seems to occur at $gJ=1.26683$.\n",
      "- IDEA: calculate time-correlation function for each component of the system, and average?\n",
      "- Also calculate equal-time correlations across the system (maybe just pick a few spins), and look for correlation lengths.  This should be done for the (local and non-local) randomly connected system and the nearest-neighbor model."
     ]
    },
    {
     "cell_type": "heading",
     "level": 4,
     "metadata": {},
     "source": [
      "Dec 9, 2013"
     ]
    },
    {
     "cell_type": "markdown",
     "metadata": {},
     "source": [
      "- Random see 28031987, N=256, near $gJ=1.24045$, looks like a rapid transition into a chaotic solution."
     ]
    },
    {
     "cell_type": "code",
     "collapsed": false,
     "input": [],
     "language": "python",
     "metadata": {},
     "outputs": []
    }
   ],
   "metadata": {}
  }
 ]
}