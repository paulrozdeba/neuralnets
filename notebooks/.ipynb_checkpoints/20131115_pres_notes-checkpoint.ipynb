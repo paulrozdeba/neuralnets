{
 "metadata": {
  "name": ""
 },
 "nbformat": 3,
 "nbformat_minor": 0,
 "worksheets": [
  {
   "cells": [
    {
     "cell_type": "heading",
     "level": 2,
     "metadata": {},
     "source": [
      "Dynamical model"
     ]
    },
    {
     "cell_type": "markdown",
     "metadata": {
      "slideshow": {
       "slide_type": "slide"
      }
     },
     "source": [
      "- N coupled variables $h_i$, $i = 1,\\ldots,N$, where $-\\infty \\leq h_i \\leq \\infty$.\n",
      "- Equations of motion:\n",
      "\n",
      "$$ \\begin{align}\n",
      "\\dot{h}_i = -h_i + \\sum_j J_{ij}S_j \n",
      "\\end{align} $$\n",
      "\n",
      "- $S_i(t) = \\phi\\left(h_i\\left(t\\right)\\right)$ is a sigmoid function of $h_i$, i.e.\n",
      "    - $S_i$ constrained to the interval $[-1,1]$\n",
      "    - $S_i\\left(\\pm\\infty\\right) = \\pm 1$\n",
      "    - example: $\\phi(x) = \\tanh(gx)$ where $g$ controls the \"degree\" of nonlinearity of the coupling\n",
      "\n",
      "- $J_{ij}$ is a random matrix with independent Gaussian-distributed entries.\n",
      "    - $\\langle J_{ij} \\rangle = 0$\n",
      "    - $\\langle J_{ij} J_{kl} \\rangle = \\frac{1}{N}\\bar{J}^2 \\delta_{ik}\\delta_{jl}$\n",
      "\n",
      "\n",
      "- Reasonable to think of $h_i(t)$ as a voltage.  The form of $S_i$ ensures that the coupling to connected neurons saturates.\n",
      "\n",
      "***Behavior***:\n",
      "\n",
      "- The model is chaotic in the large-$N$ limit when the product $g\\bar{J} > 1$.\n",
      "- Strategy: keep $g$ constant and adjust $\\bar{J}$, \"tuning\" the coupling strengths."
     ]
    },
    {
     "cell_type": "heading",
     "level": 2,
     "metadata": {},
     "source": [
      "Structure of the network"
     ]
    },
    {
     "cell_type": "markdown",
     "metadata": {},
     "source": [
      "- Might think of this as dynamical mean-field limit of an Ising model, where $J_{ij}$ only couples nearest-neighbors, i.e.\n",
      "\n",
      "$$ \\begin{align}\n",
      "J_{ij} = \\begin{pmatrix}\n",
      "    0 & J_{12} & 0 & \\cdots & 0 \\\\\n",
      "    J_{21} & 0 & J_{23} & & \\\\\n",
      "    0 & J_{32} & 0 & &  \\\\\n",
      "    \\vdots & & & \\ddots & \\\\\n",
      "    0 & & & & 0\n",
      "\\end{pmatrix}\n",
      "\\end{align} $$"
     ]
    },
    {
     "cell_type": "markdown",
     "metadata": {},
     "source": [
      "- ...or the topology of connections could be more complicated.\n",
      "- In reference: $J_{ij}$ is a Gaussian-distributed random variable with the statistics\n",
      "$$ \\begin{align}\n",
      "\\langle J_{ij} \\rangle_J = 0, \\quad &\\langle J_{ij}J_{kl} \\rangle_J \\equiv \\frac{1}{N}\\bar{J}^2 \\delta_{ik}\\delta_{jl}\n",
      "\\end{align} $$\n",
      "where $\\left\\langle f\\left(J_{ij}\\right) \\right\\rangle_J$ is the $J$-ensemble average of $f$.\n",
      "\n",
      "\n",
      "- With a symmetric $J_{ij}$, this model describes the relaxation dynamics of a global energy function.  For random couplings, it is the spin-glass Hamiltonian.\n",
      "- But if $J_{ij}$ is completely uncorrelated even with $J_{ji}$, then the dynamics is nonrelaxational and, for some values of $g\\bar{J}$, chaotic."
     ]
    },
    {
     "cell_type": "heading",
     "level": 2,
     "metadata": {},
     "source": [
      "Project plan"
     ]
    },
    {
     "cell_type": "markdown",
     "metadata": {},
     "source": [
      "- Choose subset of network as the input \"zone\".\n",
      "- Measure dynamics at disparate point in the network.\n",
      "- Can the input signal be reconstructed with one or just a few measurements?\n",
      "\n",
      "- Basic idea: measurements of a small number of components can be coupled into the dynamics of our model, i.e.\n",
      "$$ \\dot{h}_i = -h_i + \\sum_j J_{ij} S_j + g_i(h_i^{\\text{(data)}} - h_i^{\\text{(model)}}) $$\n",
      "\n",
      "- If one measurement is not enough, perhaps pairwise measurements or using time-delay synchronization, so\n",
      "$$ \\dot{h}_i = -h_i + \\sum_j J_{ij} S_j + g_i \\frac{dx}{ds} \\left(x_i^{\\text{(data)}} - s_i\\right) $$"
     ]
    },
    {
     "cell_type": "code",
     "collapsed": false,
     "input": [],
     "language": "python",
     "metadata": {},
     "outputs": []
    }
   ],
   "metadata": {}
  }
 ]
}